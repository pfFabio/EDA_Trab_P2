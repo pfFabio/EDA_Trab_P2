{
 "cells": [
  {
   "cell_type": "code",
   "execution_count": 104,
   "id": "c6a0b138",
   "metadata": {},
   "outputs": [],
   "source": [
    "# -*- coding: utf-8 -*-\n",
    "from Modelo import Pessoa, Destino, Funcoes\n",
    "from osmnx import load_graphml, graph_from_point, save_graphml, nearest_nodes, graph_to_gdfs\n",
    "from os import path, makedirs\n",
    "\n"
   ]
  },
  {
   "cell_type": "code",
   "execution_count": 105,
   "id": "43a3333b",
   "metadata": {},
   "outputs": [
    {
     "name": "stdout",
     "output_type": "stream",
     "text": [
      "Lendo Json...\n"
     ]
    }
   ],
   "source": [
    "funcoes = Funcoes()\n",
    "\n",
    "# coordenada inicial - GARAGEM\n",
    "\n",
    "coordenadaInicial = [-22.9105756,-42.8363557]\n",
    "localizacaoAtual = coordenadaInicial\n",
    "\n",
    "# PEGANDO DADOS DO JSON\n",
    "lista = funcoes.lerArquivoJson(\"dados.txt\")\n"
   ]
  },
  {
   "cell_type": "code",
   "execution_count": 106,
   "id": "b7f649b5",
   "metadata": {},
   "outputs": [],
   "source": [
    "\n",
    "# PREPARANDO LISTA DE ALUNOS EM OBJETOS\n",
    "alunos = []\n",
    "\n",
    "for aluno in lista['alunos']:\n",
    "    alunos.append(Pessoa(aluno['id'], aluno['nome'], aluno['idEscola'], aluno['coordenadas']))\n",
    "\n",
    "\n",
    "# PREPARANDO LISTA DE ESCOLAS QUE TEM ALUNOS A RECEBER EM OBJETOS\n",
    "escolas = []\n",
    "escolasIdCadastradas = []\n",
    "\n",
    "for aluno in alunos:\n",
    "    if aluno.idDestino not in escolasIdCadastradas:\n",
    "        escolaEmCadastro = Destino(lista['escolas'][aluno.idDestino]['id'], lista['escolas'][aluno.idDestino]['nome'], lista['escolas'][aluno.idDestino]['coordenadas'])\n",
    "        escolaEmCadastro.adicionarVisitante(aluno)\n",
    "        escolas.append(escolaEmCadastro)\n",
    "        escolasIdCadastradas.append(aluno.idDestino)\n",
    "    else:\n",
    "        for escola in escolas:\n",
    "            if escola.id == aluno.idDestino:\n",
    "                escola.adicionarVisitante(aluno)\n"
   ]
  },
  {
   "cell_type": "code",
   "execution_count": 107,
   "id": "3023dc16",
   "metadata": {},
   "outputs": [
    {
     "name": "stdout",
     "output_type": "stream",
     "text": [
      "Carregando grafo de ruas de 'graphs\\marica_drive_graph.graphml'...\n",
      "Grafo de ruas carregado com sucesso.\n"
     ]
    }
   ],
   "source": [
    "#GRAFOS DE RUAS\n",
    "\n",
    "#salvando ou abrindo grafos para nao recalcular\n",
    "\n",
    "graph_filename = \"marica_drive_graph.graphml\"\n",
    "graph_folder = \"graphs\" # Pasta para armazenar os grafos\n",
    "\n",
    "# Cria a pasta 'graphs' se ela não existir\n",
    "if not path.exists(graph_folder):\n",
    "    makedirs(graph_folder)\n",
    "\n",
    "graph_filepath = path.join(graph_folder, graph_filename)\n",
    "\n",
    "\n",
    "# Baixar grafo da área em torno dos pontos\n",
    "G = None\n",
    "if path.exists(graph_filepath):\n",
    "    print(f\"Carregando grafo de ruas de '{graph_filepath}'...\")\n",
    "    G = load_graphml(graph_filepath)\n",
    "    print(\"Grafo de ruas carregado com sucesso.\")\n",
    "else:\n",
    "    print(f\"Baixando grafo de ruas para a área ao redor de {localizacaoAtual}...\")\n",
    "    G = graph_from_point(localizacaoAtual, dist=15000, network_type=\"drive\")\n",
    "    print(\"Grafo baixado com sucesso.\")\n",
    "    print(f\"Salvando grafo em '{graph_filepath}'...\")\n",
    "    save_graphml(G, filepath=graph_filepath)\n",
    "    print(\"Grafo salvo com sucesso.\")\n",
    "\n",
    "#le todos os nós e organiza\n",
    "grafo = funcoes.cria_grafo(G)"
   ]
  },
  {
   "cell_type": "code",
   "execution_count": 108,
   "id": "e00a6a6f",
   "metadata": {},
   "outputs": [],
   "source": [
    "#CRIANDO LISTA DE BUSCAS\n",
    "coordenadaInicial = [-22.9105756,-42.8363557]\n",
    "listaBusca = [] \n",
    "listaPessoasRecolhidas = []\n",
    "listaAlunosEntregues = []\n",
    "\n",
    "for aluno in alunos:\n",
    "    listaBusca.append(aluno)\n",
    "\n",
    "for escola in escolas:\n",
    "    listaBusca.append(escola)"
   ]
  },
  {
   "cell_type": "code",
   "execution_count": 121,
   "id": "c2b22c91",
   "metadata": {},
   "outputs": [
    {
     "name": "stdout",
     "output_type": "stream",
     "text": [
      "=========== PROVan ===========\n",
      "A Rota chegou ao fim!\n",
      "Obrigado por utilizar o PROVan!\n"
     ]
    },
    {
     "ename": "IndexError",
     "evalue": "list index out of range",
     "output_type": "error",
     "traceback": [
      "\u001b[31m---------------------------------------------------------------------------\u001b[39m",
      "\u001b[31mIndexError\u001b[39m                                Traceback (most recent call last)",
      "\u001b[36mCell\u001b[39m\u001b[36m \u001b[39m\u001b[32mIn[121]\u001b[39m\u001b[32m, line 6\u001b[39m\n\u001b[32m      3\u001b[39m     \u001b[38;5;28mprint\u001b[39m(\u001b[33mf\u001b[39m\u001b[33m\"\u001b[39m\u001b[33mA Rota chegou ao fim!\u001b[39m\u001b[33m\"\u001b[39m)\n\u001b[32m      4\u001b[39m     \u001b[38;5;28mprint\u001b[39m(\u001b[33mf\u001b[39m\u001b[33m\"\u001b[39m\u001b[33mObrigado por utilizar o PROVan!\u001b[39m\u001b[33m\"\u001b[39m)\n\u001b[32m----> \u001b[39m\u001b[32m6\u001b[39m mapa, listaBusca, coordenadaInicial, listaPessoasRecolhidas = \u001b[43mfuncoes\u001b[49m\u001b[43m.\u001b[49m\u001b[43mplotarMapa\u001b[49m\u001b[43m(\u001b[49m\u001b[43mcoordenadaInicial\u001b[49m\u001b[43m,\u001b[49m\u001b[43m \u001b[49m\u001b[43mlistaBusca\u001b[49m\u001b[43m,\u001b[49m\u001b[43m \u001b[49m\u001b[43mgrafo\u001b[49m\u001b[43m,\u001b[49m\u001b[43m \u001b[49m\u001b[43mG\u001b[49m\u001b[43m,\u001b[49m\u001b[43m \u001b[49m\u001b[43mlistaPessoasRecolhidas\u001b[49m\u001b[43m,\u001b[49m\u001b[43m \u001b[49m\u001b[32;43m0\u001b[39;49m\u001b[43m)\u001b[49m\n\u001b[32m      7\u001b[39m listaPontosJaVisitados = listaPessoasRecolhidas[:-\u001b[32m1\u001b[39m]\n\u001b[32m      8\u001b[39m \u001b[38;5;28;01mif\u001b[39;00m \u001b[38;5;28mlen\u001b[39m(listaPontosJaVisitados) > \u001b[32m0\u001b[39m:\n",
      "\u001b[36mFile \u001b[39m\u001b[32mg:\\Meu Drive\\ENG SOFTWARE\\TRABALHO EDA MARCIO\\EDA_Trab_P2\\Modelo.py:124\u001b[39m, in \u001b[36mFuncoes.plotarMapa\u001b[39m\u001b[34m(self, coordenadaInicial, listaBusca, grafo, G, listaPessoasRecolhidas, indice_ponto)\u001b[39m\n\u001b[32m    120\u001b[39m nodes, edges = graph_to_gdfs(G)\n\u001b[32m    122\u001b[39m \u001b[38;5;66;03m#OBTEM O CAMINHO DE ACORDO COM O INDICE_PONTO INFORMADO\u001b[39;00m\n\u001b[32m    123\u001b[39m \u001b[38;5;66;03m#INFORME \"0\" NO INDICE PARA SEMPRE BUSCAR O DESTINO MAIS PRÓXIMO\u001b[39;00m\n\u001b[32m--> \u001b[39m\u001b[32m124\u001b[39m caminho, distancia = \u001b[38;5;28mself\u001b[39m.dijkstra(grafo,pontoAtual,\u001b[43mpontosProximosOrdenados\u001b[49m\u001b[43m[\u001b[49m\u001b[43mindice_ponto\u001b[49m\u001b[43m]\u001b[49m[\u001b[32m0\u001b[39m].ponto)\n\u001b[32m    126\u001b[39m route_coords = [(G.nodes[node][\u001b[33m'\u001b[39m\u001b[33my\u001b[39m\u001b[33m'\u001b[39m], G.nodes[node][\u001b[33m'\u001b[39m\u001b[33mx\u001b[39m\u001b[33m'\u001b[39m]) \u001b[38;5;28;01mfor\u001b[39;00m node \u001b[38;5;129;01min\u001b[39;00m caminho]\n\u001b[32m    128\u001b[39m \u001b[38;5;66;03m# TRAÇA A ROTA ATUAL NO MAPA\u001b[39;00m\n",
      "\u001b[31mIndexError\u001b[39m: list index out of range"
     ]
    }
   ],
   "source": [
    "print(f\"{'='*11} PROVan {'='*11}\")\n",
    "if len(listaBusca) == 0:\n",
    "    print(f\"A Rota chegou ao fim!\")\n",
    "    print(f\"Obrigado por utilizar o PROVan!\")\n",
    "\n",
    "mapa, listaBusca, coordenadaInicial, listaPessoasRecolhidas = funcoes.plotarMapa(coordenadaInicial, listaBusca, grafo, G, listaPessoasRecolhidas, 0)\n",
    "listaPontosJaVisitados = listaPessoasRecolhidas[:-1]\n",
    "if len(listaPontosJaVisitados) > 0:\n",
    "    print(f\"Localização atual: {listaPontosJaVisitados[-1].nome}\")\n",
    "print(f\"Destino atual: {listaPessoasRecolhidas[-1].nome}\")\n",
    "print(f\"{'='*30}\")\n",
    "print(f\"Destinos Visitados: {len(listaPontosJaVisitados)}\")\n",
    "acentosOcupados = 0\n",
    "alunosEntregues = 0\n",
    "\n",
    "if len(listaPontosJaVisitados) > 0 :\n",
    "    for pontos in listaPontosJaVisitados:\n",
    "        print(pontos.nome, end='; ')\n",
    "        if isinstance(pontos, Pessoa):\n",
    "            acentosOcupados += 1\n",
    "\n",
    "        elif isinstance(listaPontosJaVisitados[-1], Destino):\n",
    "            for aluno in listaPontosJaVisitados[-1].visitantes:\n",
    "                alunosEntregues += 1\n",
    "                acentosOcupados -= 1\n",
    "                listaAlunosEntregues.append(aluno)\n",
    "        \n",
    "print()\n",
    "print(f\"{'='*30}\")\n",
    "print(\"Alunos entregues:\")\n",
    "for aluno in listaAlunosEntregues:\n",
    "    print(aluno.nome, end='; ')\n",
    "\n",
    "print()\n",
    "print(f\"{'='*30}\")\n",
    "\n",
    "\n",
    "\n",
    "\n",
    "\n",
    "mapa\n"
   ]
  },
  {
   "cell_type": "markdown",
   "id": "01999142",
   "metadata": {},
   "source": []
  }
 ],
 "metadata": {
  "kernelspec": {
   "display_name": "ambiente",
   "language": "python",
   "name": "python3"
  },
  "language_info": {
   "codemirror_mode": {
    "name": "ipython",
    "version": 3
   },
   "file_extension": ".py",
   "mimetype": "text/x-python",
   "name": "python",
   "nbconvert_exporter": "python",
   "pygments_lexer": "ipython3",
   "version": "3.12.6"
  }
 },
 "nbformat": 4,
 "nbformat_minor": 5
}
